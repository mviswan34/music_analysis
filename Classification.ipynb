{
 "cells": [
  {
   "cell_type": "markdown",
   "metadata": {},
   "source": []
  },
  {
   "cell_type": "code",
   "execution_count": 2,
   "metadata": {},
   "outputs": [],
   "source": [
    "import pandas as pd\n",
    "\n",
    "df1 = pd.read_csv(\"Popular_Clean.csv\")\n",
    "df2 = pd.read_csv(\"Song_Analytics.csv\")"
   ]
  },
  {
   "cell_type": "code",
   "execution_count": 3,
   "metadata": {},
   "outputs": [
    {
     "data": {
      "text/html": [
       "<div>\n",
       "<style scoped>\n",
       "    .dataframe tbody tr th:only-of-type {\n",
       "        vertical-align: middle;\n",
       "    }\n",
       "\n",
       "    .dataframe tbody tr th {\n",
       "        vertical-align: top;\n",
       "    }\n",
       "\n",
       "    .dataframe thead th {\n",
       "        text-align: right;\n",
       "    }\n",
       "</style>\n",
       "<table border=\"1\" class=\"dataframe\">\n",
       "  <thead>\n",
       "    <tr style=\"text-align: right;\">\n",
       "      <th></th>\n",
       "      <th>track_name</th>\n",
       "      <th>artist_name</th>\n",
       "      <th>danceability</th>\n",
       "      <th>energy</th>\n",
       "      <th>speechiness</th>\n",
       "      <th>acousticness</th>\n",
       "      <th>instrumentalness</th>\n",
       "      <th>liveness</th>\n",
       "      <th>valence</th>\n",
       "      <th>tempo</th>\n",
       "      <th>...</th>\n",
       "      <th>highest_peak_value</th>\n",
       "      <th>normalized_likes</th>\n",
       "      <th>normalized_views</th>\n",
       "      <th>normalized_us_hit</th>\n",
       "      <th>normalized_high_peak</th>\n",
       "      <th>likes_per_day</th>\n",
       "      <th>views_per_day</th>\n",
       "      <th>genre_averaged_likes</th>\n",
       "      <th>normalized_num_peak_periods</th>\n",
       "      <th>popularity_score_scaled</th>\n",
       "    </tr>\n",
       "  </thead>\n",
       "  <tbody>\n",
       "    <tr>\n",
       "      <th>0</th>\n",
       "      <td>Blinding Lights</td>\n",
       "      <td>The Weeknd</td>\n",
       "      <td>0.514</td>\n",
       "      <td>0.730</td>\n",
       "      <td>0.0598</td>\n",
       "      <td>0.00146</td>\n",
       "      <td>0.000095</td>\n",
       "      <td>0.0897</td>\n",
       "      <td>0.334</td>\n",
       "      <td>171.005</td>\n",
       "      <td>...</td>\n",
       "      <td>100.0</td>\n",
       "      <td>16.078045</td>\n",
       "      <td>20.463609</td>\n",
       "      <td>3.258097</td>\n",
       "      <td>4.615121</td>\n",
       "      <td>0.011874</td>\n",
       "      <td>0.015113</td>\n",
       "      <td>0.025767</td>\n",
       "      <td>0.333333</td>\n",
       "      <td>43.660471</td>\n",
       "    </tr>\n",
       "    <tr>\n",
       "      <th>1</th>\n",
       "      <td>Dance Monkey</td>\n",
       "      <td>Tones And I</td>\n",
       "      <td>0.824</td>\n",
       "      <td>0.587</td>\n",
       "      <td>0.0937</td>\n",
       "      <td>0.69000</td>\n",
       "      <td>0.000105</td>\n",
       "      <td>0.1490</td>\n",
       "      <td>0.514</td>\n",
       "      <td>98.029</td>\n",
       "      <td>...</td>\n",
       "      <td>12.0</td>\n",
       "      <td>16.554820</td>\n",
       "      <td>21.452550</td>\n",
       "      <td>2.484907</td>\n",
       "      <td>2.564949</td>\n",
       "      <td>0.010971</td>\n",
       "      <td>0.014216</td>\n",
       "      <td>0.029205</td>\n",
       "      <td>0.111111</td>\n",
       "      <td>41.465744</td>\n",
       "    </tr>\n",
       "  </tbody>\n",
       "</table>\n",
       "<p>2 rows × 33 columns</p>\n",
       "</div>"
      ],
      "text/plain": [
       "        track_name  artist_name  danceability  energy  speechiness  \\\n",
       "0  Blinding Lights   The Weeknd         0.514   0.730       0.0598   \n",
       "1     Dance Monkey  Tones And I         0.824   0.587       0.0937   \n",
       "\n",
       "   acousticness  instrumentalness  liveness  valence    tempo  ...  \\\n",
       "0       0.00146          0.000095    0.0897    0.334  171.005  ...   \n",
       "1       0.69000          0.000105    0.1490    0.514   98.029  ...   \n",
       "\n",
       "   highest_peak_value normalized_likes  normalized_views  normalized_us_hit  \\\n",
       "0               100.0        16.078045         20.463609           3.258097   \n",
       "1                12.0        16.554820         21.452550           2.484907   \n",
       "\n",
       "   normalized_high_peak likes_per_day views_per_day  genre_averaged_likes  \\\n",
       "0              4.615121      0.011874      0.015113              0.025767   \n",
       "1              2.564949      0.010971      0.014216              0.029205   \n",
       "\n",
       "  normalized_num_peak_periods  popularity_score_scaled  \n",
       "0                    0.333333                43.660471  \n",
       "1                    0.111111                41.465744  \n",
       "\n",
       "[2 rows x 33 columns]"
      ]
     },
     "execution_count": 3,
     "metadata": {},
     "output_type": "execute_result"
    }
   ],
   "source": [
    "df1.head(2)"
   ]
  },
  {
   "cell_type": "code",
   "execution_count": 4,
   "metadata": {},
   "outputs": [
    {
     "data": {
      "text/html": [
       "<div>\n",
       "<style scoped>\n",
       "    .dataframe tbody tr th:only-of-type {\n",
       "        vertical-align: middle;\n",
       "    }\n",
       "\n",
       "    .dataframe tbody tr th {\n",
       "        vertical-align: top;\n",
       "    }\n",
       "\n",
       "    .dataframe thead th {\n",
       "        text-align: right;\n",
       "    }\n",
       "</style>\n",
       "<table border=\"1\" class=\"dataframe\">\n",
       "  <thead>\n",
       "    <tr style=\"text-align: right;\">\n",
       "      <th></th>\n",
       "      <th>track_name</th>\n",
       "      <th>tempo</th>\n",
       "      <th>mean_zcr</th>\n",
       "      <th>median_zcr</th>\n",
       "      <th>std_zcr</th>\n",
       "      <th>max_zcr</th>\n",
       "      <th>aboveThr_zcr</th>\n",
       "      <th>mean_sc</th>\n",
       "      <th>median_sc</th>\n",
       "      <th>std_sc</th>\n",
       "      <th>...</th>\n",
       "      <th>contrast_del_mean</th>\n",
       "      <th>contrast_avg_sd</th>\n",
       "      <th>Tone1</th>\n",
       "      <th>Tone2</th>\n",
       "      <th>Tone3</th>\n",
       "      <th>Tone4</th>\n",
       "      <th>Tone5</th>\n",
       "      <th>Tone6</th>\n",
       "      <th>Tone_deltaMean</th>\n",
       "      <th>Tone_avg_sd</th>\n",
       "    </tr>\n",
       "  </thead>\n",
       "  <tbody>\n",
       "    <tr>\n",
       "      <th>0</th>\n",
       "      <td>0800 HEAVEN</td>\n",
       "      <td>143.554688</td>\n",
       "      <td>0.0918</td>\n",
       "      <td>0.0913</td>\n",
       "      <td>0.0527</td>\n",
       "      <td>0.6323</td>\n",
       "      <td>0.4358</td>\n",
       "      <td>2196.7699</td>\n",
       "      <td>2259.6592</td>\n",
       "      <td>862.0266</td>\n",
       "      <td>...</td>\n",
       "      <td>0.6804</td>\n",
       "      <td>6.128429</td>\n",
       "      <td>0.1183</td>\n",
       "      <td>0.1248</td>\n",
       "      <td>0.1614</td>\n",
       "      <td>0.1270</td>\n",
       "      <td>0.0527</td>\n",
       "      <td>0.0522</td>\n",
       "      <td>0.009060</td>\n",
       "      <td>0.106067</td>\n",
       "    </tr>\n",
       "    <tr>\n",
       "      <th>1</th>\n",
       "      <td>1 2 3 feat Jason Derulo  De La Ghetto</td>\n",
       "      <td>95.703125</td>\n",
       "      <td>0.1278</td>\n",
       "      <td>0.1172</td>\n",
       "      <td>0.0813</td>\n",
       "      <td>0.6621</td>\n",
       "      <td>0.6041</td>\n",
       "      <td>2811.9937</td>\n",
       "      <td>2768.6767</td>\n",
       "      <td>1057.0624</td>\n",
       "      <td>...</td>\n",
       "      <td>0.7764</td>\n",
       "      <td>6.554386</td>\n",
       "      <td>0.1012</td>\n",
       "      <td>0.0931</td>\n",
       "      <td>0.1172</td>\n",
       "      <td>0.1136</td>\n",
       "      <td>0.0526</td>\n",
       "      <td>0.0427</td>\n",
       "      <td>0.008302</td>\n",
       "      <td>0.086733</td>\n",
       "    </tr>\n",
       "  </tbody>\n",
       "</table>\n",
       "<p>2 rows × 71 columns</p>\n",
       "</div>"
      ],
      "text/plain": [
       "                              track_name       tempo  mean_zcr  median_zcr  \\\n",
       "0                            0800 HEAVEN  143.554688    0.0918      0.0913   \n",
       "1  1 2 3 feat Jason Derulo  De La Ghetto   95.703125    0.1278      0.1172   \n",
       "\n",
       "   std_zcr  max_zcr  aboveThr_zcr    mean_sc  median_sc     std_sc  ...  \\\n",
       "0   0.0527   0.6323        0.4358  2196.7699  2259.6592   862.0266  ...   \n",
       "1   0.0813   0.6621        0.6041  2811.9937  2768.6767  1057.0624  ...   \n",
       "\n",
       "   contrast_del_mean  contrast_avg_sd   Tone1   Tone2   Tone3   Tone4   Tone5  \\\n",
       "0             0.6804         6.128429  0.1183  0.1248  0.1614  0.1270  0.0527   \n",
       "1             0.7764         6.554386  0.1012  0.0931  0.1172  0.1136  0.0526   \n",
       "\n",
       "    Tone6  Tone_deltaMean  Tone_avg_sd  \n",
       "0  0.0522        0.009060     0.106067  \n",
       "1  0.0427        0.008302     0.086733  \n",
       "\n",
       "[2 rows x 71 columns]"
      ]
     },
     "execution_count": 4,
     "metadata": {},
     "output_type": "execute_result"
    }
   ],
   "source": [
    "df2.head(2)"
   ]
  },
  {
   "cell_type": "code",
   "execution_count": 5,
   "metadata": {},
   "outputs": [],
   "source": [
    "# Merging 'popularity_score_scaled' and 'time_frame' from df1 into df2\n",
    "df_model = df2.merge(df1[['track_name', 'popularity_score_scaled', 'time_frame']], \n",
    "                       on='track_name', \n",
    "                       how='left')\n"
   ]
  },
  {
   "cell_type": "code",
   "execution_count": 7,
   "metadata": {},
   "outputs": [
    {
     "data": {
      "text/html": [
       "<div>\n",
       "<style scoped>\n",
       "    .dataframe tbody tr th:only-of-type {\n",
       "        vertical-align: middle;\n",
       "    }\n",
       "\n",
       "    .dataframe tbody tr th {\n",
       "        vertical-align: top;\n",
       "    }\n",
       "\n",
       "    .dataframe thead th {\n",
       "        text-align: right;\n",
       "    }\n",
       "</style>\n",
       "<table border=\"1\" class=\"dataframe\">\n",
       "  <thead>\n",
       "    <tr style=\"text-align: right;\">\n",
       "      <th></th>\n",
       "      <th>track_name</th>\n",
       "      <th>tempo</th>\n",
       "      <th>mean_zcr</th>\n",
       "      <th>median_zcr</th>\n",
       "      <th>std_zcr</th>\n",
       "      <th>max_zcr</th>\n",
       "      <th>aboveThr_zcr</th>\n",
       "      <th>mean_sc</th>\n",
       "      <th>median_sc</th>\n",
       "      <th>std_sc</th>\n",
       "      <th>...</th>\n",
       "      <th>Tone1</th>\n",
       "      <th>Tone2</th>\n",
       "      <th>Tone3</th>\n",
       "      <th>Tone4</th>\n",
       "      <th>Tone5</th>\n",
       "      <th>Tone6</th>\n",
       "      <th>Tone_deltaMean</th>\n",
       "      <th>Tone_avg_sd</th>\n",
       "      <th>popularity_score_scaled</th>\n",
       "      <th>time_frame</th>\n",
       "    </tr>\n",
       "  </thead>\n",
       "  <tbody>\n",
       "    <tr>\n",
       "      <th>0</th>\n",
       "      <td>0800 HEAVEN</td>\n",
       "      <td>143.554688</td>\n",
       "      <td>0.0918</td>\n",
       "      <td>0.0913</td>\n",
       "      <td>0.0527</td>\n",
       "      <td>0.6323</td>\n",
       "      <td>0.4358</td>\n",
       "      <td>2196.7699</td>\n",
       "      <td>2259.6592</td>\n",
       "      <td>862.0266</td>\n",
       "      <td>...</td>\n",
       "      <td>0.1183</td>\n",
       "      <td>0.1248</td>\n",
       "      <td>0.1614</td>\n",
       "      <td>0.1270</td>\n",
       "      <td>0.0527</td>\n",
       "      <td>0.0522</td>\n",
       "      <td>0.009060</td>\n",
       "      <td>0.106067</td>\n",
       "      <td>53.814449</td>\n",
       "      <td>178.0</td>\n",
       "    </tr>\n",
       "    <tr>\n",
       "      <th>1</th>\n",
       "      <td>1 2 3 feat Jason Derulo  De La Ghetto</td>\n",
       "      <td>95.703125</td>\n",
       "      <td>0.1278</td>\n",
       "      <td>0.1172</td>\n",
       "      <td>0.0813</td>\n",
       "      <td>0.6621</td>\n",
       "      <td>0.6041</td>\n",
       "      <td>2811.9937</td>\n",
       "      <td>2768.6767</td>\n",
       "      <td>1057.0624</td>\n",
       "      <td>...</td>\n",
       "      <td>0.1012</td>\n",
       "      <td>0.0931</td>\n",
       "      <td>0.1172</td>\n",
       "      <td>0.1136</td>\n",
       "      <td>0.0526</td>\n",
       "      <td>0.0427</td>\n",
       "      <td>0.008302</td>\n",
       "      <td>0.086733</td>\n",
       "      <td>54.638400</td>\n",
       "      <td>2117.0</td>\n",
       "    </tr>\n",
       "  </tbody>\n",
       "</table>\n",
       "<p>2 rows × 73 columns</p>\n",
       "</div>"
      ],
      "text/plain": [
       "                              track_name       tempo  mean_zcr  median_zcr  \\\n",
       "0                            0800 HEAVEN  143.554688    0.0918      0.0913   \n",
       "1  1 2 3 feat Jason Derulo  De La Ghetto   95.703125    0.1278      0.1172   \n",
       "\n",
       "   std_zcr  max_zcr  aboveThr_zcr    mean_sc  median_sc     std_sc  ...  \\\n",
       "0   0.0527   0.6323        0.4358  2196.7699  2259.6592   862.0266  ...   \n",
       "1   0.0813   0.6621        0.6041  2811.9937  2768.6767  1057.0624  ...   \n",
       "\n",
       "    Tone1   Tone2   Tone3   Tone4   Tone5   Tone6  Tone_deltaMean  \\\n",
       "0  0.1183  0.1248  0.1614  0.1270  0.0527  0.0522        0.009060   \n",
       "1  0.1012  0.0931  0.1172  0.1136  0.0526  0.0427        0.008302   \n",
       "\n",
       "   Tone_avg_sd  popularity_score_scaled  time_frame  \n",
       "0     0.106067                53.814449       178.0  \n",
       "1     0.086733                54.638400      2117.0  \n",
       "\n",
       "[2 rows x 73 columns]"
      ]
     },
     "execution_count": 7,
     "metadata": {},
     "output_type": "execute_result"
    }
   ],
   "source": [
    "df_model.head(2)"
   ]
  },
  {
   "cell_type": "code",
   "execution_count": 6,
   "metadata": {},
   "outputs": [],
   "source": [
    "df_model = df_model.dropna()"
   ]
  },
  {
   "cell_type": "code",
   "execution_count": 10,
   "metadata": {},
   "outputs": [
    {
     "data": {
      "image/png": "[encoded data removed]",
      "text/plain": [
       "<Figure size 640x480 with 1 Axes>"
      ]
     },
     "metadata": {},
     "output_type": "display_data"
    }
   ],
   "source": [
    "import pandas as pd\n",
    "import matplotlib.pyplot as plt\n",
    "\n",
    "# Assuming df is your dataframe\n",
    "# Plotting the distribution of popularity scores\n",
    "df_model['popularity_score_scaled'].hist()\n",
    "plt.show()"
   ]
  },
  {
   "cell_type": "code",
   "execution_count": 22,
   "metadata": {},
   "outputs": [],
   "source": [
    "import numpy as np\n",
    "# Define the bin edges for the categories based on the provided ranges\n",
    "bins = [-np.inf, 30, 50, 60, np.inf]\n",
    "labels = ['Not_so_popular', 'Popular_During', 'Semi_Popular', 'Popular_Forever']\n",
    "\n",
    "# Create a new categorical column\n",
    "df_model['popularity_category'] = pd.cut(df_model['popularity_score_scaled'], bins=bins, labels=labels)"
   ]
  },
  {
   "cell_type": "code",
   "execution_count": 23,
   "metadata": {},
   "outputs": [
    {
     "data": {
      "text/html": [
       "<div>\n",
       "<style scoped>\n",
       "    .dataframe tbody tr th:only-of-type {\n",
       "        vertical-align: middle;\n",
       "    }\n",
       "\n",
       "    .dataframe tbody tr th {\n",
       "        vertical-align: top;\n",
       "    }\n",
       "\n",
       "    .dataframe thead th {\n",
       "        text-align: right;\n",
       "    }\n",
       "</style>\n",
       "<table border=\"1\" class=\"dataframe\">\n",
       "  <thead>\n",
       "    <tr style=\"text-align: right;\">\n",
       "      <th></th>\n",
       "      <th>track_name</th>\n",
       "      <th>tempo</th>\n",
       "      <th>mean_zcr</th>\n",
       "      <th>median_zcr</th>\n",
       "      <th>std_zcr</th>\n",
       "      <th>max_zcr</th>\n",
       "      <th>aboveThr_zcr</th>\n",
       "      <th>mean_sc</th>\n",
       "      <th>median_sc</th>\n",
       "      <th>std_sc</th>\n",
       "      <th>...</th>\n",
       "      <th>Tone2</th>\n",
       "      <th>Tone3</th>\n",
       "      <th>Tone4</th>\n",
       "      <th>Tone5</th>\n",
       "      <th>Tone6</th>\n",
       "      <th>Tone_deltaMean</th>\n",
       "      <th>Tone_avg_sd</th>\n",
       "      <th>popularity_score_scaled</th>\n",
       "      <th>time_frame</th>\n",
       "      <th>popularity_category</th>\n",
       "    </tr>\n",
       "  </thead>\n",
       "  <tbody>\n",
       "    <tr>\n",
       "      <th>0</th>\n",
       "      <td>0800 HEAVEN</td>\n",
       "      <td>143.554688</td>\n",
       "      <td>0.0918</td>\n",
       "      <td>0.0913</td>\n",
       "      <td>0.0527</td>\n",
       "      <td>0.6323</td>\n",
       "      <td>0.4358</td>\n",
       "      <td>2196.7699</td>\n",
       "      <td>2259.6592</td>\n",
       "      <td>862.0266</td>\n",
       "      <td>...</td>\n",
       "      <td>0.1248</td>\n",
       "      <td>0.1614</td>\n",
       "      <td>0.1270</td>\n",
       "      <td>0.0527</td>\n",
       "      <td>0.0522</td>\n",
       "      <td>0.009060</td>\n",
       "      <td>0.106067</td>\n",
       "      <td>53.814449</td>\n",
       "      <td>178.0</td>\n",
       "      <td>Semi_Popular</td>\n",
       "    </tr>\n",
       "    <tr>\n",
       "      <th>1</th>\n",
       "      <td>1 2 3 feat Jason Derulo  De La Ghetto</td>\n",
       "      <td>95.703125</td>\n",
       "      <td>0.1278</td>\n",
       "      <td>0.1172</td>\n",
       "      <td>0.0813</td>\n",
       "      <td>0.6621</td>\n",
       "      <td>0.6041</td>\n",
       "      <td>2811.9937</td>\n",
       "      <td>2768.6767</td>\n",
       "      <td>1057.0624</td>\n",
       "      <td>...</td>\n",
       "      <td>0.0931</td>\n",
       "      <td>0.1172</td>\n",
       "      <td>0.1136</td>\n",
       "      <td>0.0526</td>\n",
       "      <td>0.0427</td>\n",
       "      <td>0.008302</td>\n",
       "      <td>0.086733</td>\n",
       "      <td>54.638400</td>\n",
       "      <td>2117.0</td>\n",
       "      <td>Semi_Popular</td>\n",
       "    </tr>\n",
       "  </tbody>\n",
       "</table>\n",
       "<p>2 rows × 74 columns</p>\n",
       "</div>"
      ],
      "text/plain": [
       "                              track_name       tempo  mean_zcr  median_zcr  \\\n",
       "0                            0800 HEAVEN  143.554688    0.0918      0.0913   \n",
       "1  1 2 3 feat Jason Derulo  De La Ghetto   95.703125    0.1278      0.1172   \n",
       "\n",
       "   std_zcr  max_zcr  aboveThr_zcr    mean_sc  median_sc     std_sc  ...  \\\n",
       "0   0.0527   0.6323        0.4358  2196.7699  2259.6592   862.0266  ...   \n",
       "1   0.0813   0.6621        0.6041  2811.9937  2768.6767  1057.0624  ...   \n",
       "\n",
       "    Tone2   Tone3   Tone4   Tone5   Tone6  Tone_deltaMean  Tone_avg_sd  \\\n",
       "0  0.1248  0.1614  0.1270  0.0527  0.0522        0.009060     0.106067   \n",
       "1  0.0931  0.1172  0.1136  0.0526  0.0427        0.008302     0.086733   \n",
       "\n",
       "   popularity_score_scaled  time_frame  popularity_category  \n",
       "0                53.814449       178.0         Semi_Popular  \n",
       "1                54.638400      2117.0         Semi_Popular  \n",
       "\n",
       "[2 rows x 74 columns]"
      ]
     },
     "execution_count": 23,
     "metadata": {},
     "output_type": "execute_result"
    }
   ],
   "source": [
    "df_model.head(2)"
   ]
  },
  {
   "cell_type": "code",
   "execution_count": 25,
   "metadata": {},
   "outputs": [],
   "source": [
    "### PREPARING THE DATA\n",
    "\n",
    "# Features and target\n",
    "X = df_model.drop(['track_name', 'popularity_score_scaled', 'popularity_category'], axis=1)\n",
    "y = df_model['popularity_category']\n"
   ]
  },
  {
   "cell_type": "code",
   "execution_count": 27,
   "metadata": {},
   "outputs": [],
   "source": [
    "from sklearn.preprocessing import StandardScaler\n",
    "\n",
    "scaler = StandardScaler()\n",
    "scaler.fit(X)\n",
    "X_scaled = scaler.transform(X)\n",
    "\n",
    "df_scaled = pd.DataFrame(X_scaled, columns=X.columns, index=X.index)\n",
    "\n",
    "df_scaled['popularity_category'] = y\n",
    "df_scaled['track_name'] = df_model['track_name']"
   ]
  },
  {
   "cell_type": "code",
   "execution_count": 31,
   "metadata": {},
   "outputs": [],
   "source": [
    "### SPLITTING THE DATASET\n",
    "\n",
    "from sklearn.model_selection import train_test_split\n",
    "\n",
    "X_train, X_test, y_train, y_test = train_test_split(X_scaled, y, test_size=0.2, random_state=42, stratify=y)\n"
   ]
  },
  {
   "cell_type": "markdown",
   "metadata": {},
   "source": [
    "For predicting the popularity category, which is now a classification problem, you can try a variety of machine learning models. Here's a list of commonly used classifiers, each with its own strengths and suitable use cases:\n",
    "\n",
    "1. Logistic Regression: A good baseline for classification problems. It's simple, fast, and effective for linearly separable classes.\n",
    "\n",
    "2. Decision Trees: They are easy to interpret and work well with categorical and numerical data. They can capture non-linear patterns but can overfit if not carefully tuned.\n",
    "\n",
    "3. Random Forest: An ensemble of decision trees that can capture complex relationships in the data. It's robust to overfitting and works well with a mix of features but can be less interpretable due to its complexity.\n",
    "\n",
    "4. Gradient Boosting Machines (GBM): Another ensemble method that's effective in predictive accuracy and robustness. Models like XGBoost, LightGBM, and CatBoost fall under this category and are known for winning many Kaggle competitions.\n",
    "\n",
    "5. Support Vector Machines (SVM): Effective in high-dimensional spaces and best suited for problems with clear margin of separation. It can be computationally intensive, especially with large datasets.\n",
    "\n",
    "6. K-Nearest Neighbors (KNN): A non-parametric method that is simple and effective, especially if you have a small dataset. However, it can be slow and is sensitive to irrelevant features and the scale of the data.\n",
    "\n",
    "7. Neural Networks: They can model complex and non-linear relationships. Deep learning models may be suitable if you have a large amount of data and computational resources.\n",
    "\n",
    "8. Naive Bayes: It's based on Bayes' theorem and works particularly well for large feature spaces like text classification. It assumes independence between predictors, which may not be the case in your data."
   ]
  },
  {
   "cell_type": "code",
   "execution_count": 32,
   "metadata": {},
   "outputs": [
    {
     "name": "stdout",
     "output_type": "stream",
     "text": [
      "Accuracy: 0.42718446601941745\n",
      "Classification Report:\n",
      "                 precision    recall  f1-score   support\n",
      "\n",
      " Not_so_popular       0.47      0.32      0.38        25\n",
      " Popular_During       0.47      0.67      0.55        51\n",
      "Popular_Forever       0.00      0.00      0.00         8\n",
      "   Semi_Popular       0.20      0.11      0.14        19\n",
      "\n",
      "       accuracy                           0.43       103\n",
      "      macro avg       0.29      0.27      0.27       103\n",
      "   weighted avg       0.38      0.43      0.39       103\n",
      "\n"
     ]
    }
   ],
   "source": [
    "################################################### LOGISTIC REGRESSION ######################################################\n",
    "\n",
    "from sklearn.linear_model import LogisticRegression\n",
    "from sklearn.metrics import classification_report, accuracy_score\n",
    "\n",
    "# Initialize the Logistic Regression model\n",
    "log_reg = LogisticRegression(max_iter=1000)  # Increased max_iter for convergence\n",
    "\n",
    "# Fit the model on the training data\n",
    "log_reg.fit(X_train, y_train)\n",
    "\n",
    "# Predict on the test data\n",
    "y_pred = log_reg.predict(X_test)\n",
    "\n",
    "# Evaluate the model\n",
    "accuracy = accuracy_score(y_test, y_pred)\n",
    "report = classification_report(y_test, y_pred)\n",
    "\n",
    "# Print the evaluation results\n",
    "print(\"Accuracy:\", accuracy)\n",
    "print(\"Classification Report:\")\n",
    "print(report)\n"
   ]
  },
  {
   "cell_type": "markdown",
   "metadata": {},
   "source": [
    "The output indicates that the Logistic Regression model achieved an overall accuracy of 42.7% on test data, which suggests it performs better than random guessing but is still not highly accurate. The precision, recall, and f1-score for each class provide additional insight into the model's performance:\n",
    "\n",
    "Not_so_popular: Has a precision of 0.47 and recall of 0.32, indicating that the model is relatively conservative when predicting this class; it's correct less than half the time when it does predict this class, and it identifies 32% of all actual instances of this class.\n",
    "\n",
    "Popular_During: This category has the best f1-score at 0.55 with a precision of 0.47 and a recall of 0.67, suggesting that the model is more confident and accurate in predicting this class than the others.\n",
    "\n",
    "Popular_Forever: The model did not correctly predict any instances of this class (precision and recall are both 0). This could be due to a lack of representative features that differentiate this class well, or it might be that this class is underrepresented in the dataset.\n",
    "\n",
    "Semi_Popular: It seems there is a fourth category in the output that wasn't mentioned before. For this category, the model has a precision of 0.20 and recall of 0.11, indicating poor performance."
   ]
  },
  {
   "cell_type": "code",
   "execution_count": 24,
   "metadata": {},
   "outputs": [
    {
     "data": {
      "image/png": "[encoded data removed]",
      "text/plain": [
       "<Figure size 640x480 with 1 Axes>"
      ]
     },
     "metadata": {},
     "output_type": "display_data"
    }
   ],
   "source": [
    "df_model['popularity_category'].hist()\n",
    "plt.show()"
   ]
  },
  {
   "cell_type": "markdown",
   "metadata": {},
   "source": [
    "Class imbalance is a common issue in machine learning classification problems and can lead to poor model performance, especially for the minority class. \n",
    "Techniques like SMOTE for oversampling, class weights during training, or collecting more data can help."
   ]
  },
  {
   "cell_type": "code",
   "execution_count": 33,
   "metadata": {},
   "outputs": [],
   "source": [
    "from imblearn.over_sampling import SMOTE\n",
    "from sklearn.model_selection import train_test_split\n",
    "\n",
    "# Assuming X_scaled is your feature set and y is the target variable\n",
    "X_train, X_test, y_train, y_test = train_test_split(X_scaled, y, test_size=0.2, random_state=42, stratify=y)\n",
    "\n",
    "# Initialize SMOTE\n",
    "smote = SMOTE()\n",
    "\n",
    "# Fit SMOTE to the training data\n",
    "X_train_smote, y_train_smote = smote.fit_resample(X_train, y_train)"
   ]
  },
  {
   "cell_type": "code",
   "execution_count": 34,
   "metadata": {},
   "outputs": [
    {
     "name": "stdout",
     "output_type": "stream",
     "text": [
      "Accuracy: 0.34951456310679613\n",
      "Classification Report:\n",
      "                 precision    recall  f1-score   support\n",
      "\n",
      " Not_so_popular       0.43      0.40      0.42        25\n",
      " Popular_During       0.50      0.39      0.44        51\n",
      "Popular_Forever       0.15      0.25      0.19         8\n",
      "   Semi_Popular       0.15      0.21      0.17        19\n",
      "\n",
      "       accuracy                           0.35       103\n",
      "      macro avg       0.31      0.31      0.31       103\n",
      "   weighted avg       0.39      0.35      0.37       103\n",
      "\n"
     ]
    }
   ],
   "source": [
    "################################################### LOGISTIC REGRESSION ######################################################\n",
    "\n",
    "from sklearn.linear_model import LogisticRegression\n",
    "from sklearn.metrics import classification_report, accuracy_score\n",
    "\n",
    "# Initialize the Logistic Regression model\n",
    "log_reg = LogisticRegression(max_iter=1000)  # Increased max_iter for convergence\n",
    "\n",
    "# Fit the model on the training data\n",
    "log_reg.fit(X_train_smote, y_train_smote)\n",
    "\n",
    "# Predict on the test data\n",
    "y_pred = log_reg.predict(X_test)\n",
    "\n",
    "# Evaluate the model\n",
    "accuracy = accuracy_score(y_test, y_pred)\n",
    "report = classification_report(y_test, y_pred)\n",
    "\n",
    "# Print the evaluation results\n",
    "print(\"Accuracy:\", accuracy)\n",
    "print(\"Classification Report:\")\n",
    "print(report)\n"
   ]
  },
  {
   "cell_type": "markdown",
   "metadata": {},
   "source": [
    "In the new results, the precision and recall for the \"Popular_Forever\" and \"Semi_Popular\" categories have indeed increased, which means the model is now better at identifying these previously under-represented classes. This is an indication that the balancing technique is having the desired effect on the model's ability to classify the minority classes.\n",
    "\n",
    "When dealing with imbalanced datasets, overall accuracy is not always the best metric to focus on. Instead, look at metrics such as:<br/>\n",
    "\n",
    "Recall: The ability of the classifier to find all the positive samples.<br/>\n",
    "Precision: How many of the items identified as positive are actually positive.<br/>\n",
    "F1 Score: The harmonic mean of precision and recall.<br/>\n",
    "These metrics provide a better sense of how well the model is performing across all classes. It seems that the balancing helped improve these for the minority class.<br/>"
   ]
  },
  {
   "cell_type": "markdown",
   "metadata": {},
   "source": []
  },
  {
   "cell_type": "code",
   "execution_count": 35,
   "metadata": {},
   "outputs": [
    {
     "name": "stdout",
     "output_type": "stream",
     "text": [
      "Random Forest Classifier Accuracy: 0.5145631067961165\n",
      "Random Forest Classifier Classification Report:\n",
      "                 precision    recall  f1-score   support\n",
      "\n",
      " Not_so_popular       0.58      0.44      0.50        25\n",
      " Popular_During       0.56      0.71      0.63        51\n",
      "Popular_Forever       0.00      0.00      0.00         8\n",
      "   Semi_Popular       0.38      0.32      0.34        19\n",
      "\n",
      "       accuracy                           0.51       103\n",
      "      macro avg       0.38      0.37      0.37       103\n",
      "   weighted avg       0.49      0.51      0.49       103\n",
      "\n"
     ]
    }
   ],
   "source": [
    "######################################################################################## RANDOM FOREST CLASSIFIER ##############################################################################################################\n",
    "from sklearn.ensemble import RandomForestClassifier\n",
    "\n",
    "# Initialize the Random Forest Classifier\n",
    "rf_classifier = RandomForestClassifier(n_estimators=100, random_state=42)\n",
    "\n",
    "# Fit the classifier to the training data\n",
    "rf_classifier.fit(X_train_smote, y_train_smote)\n",
    "\n",
    "# Predict on the test data\n",
    "y_pred_rf = rf_classifier.predict(X_test)\n",
    "\n",
    "# Evaluate the classifier\n",
    "accuracy_rf = accuracy_score(y_test, y_pred_rf)\n",
    "report_rf = classification_report(y_test, y_pred_rf)\n",
    "\n",
    "# Print the evaluation results\n",
    "print(\"Random Forest Classifier Accuracy:\", accuracy_rf)\n",
    "print(\"Random Forest Classifier Classification Report:\")\n",
    "print(report_rf)\n"
   ]
  },
  {
   "cell_type": "markdown",
   "metadata": {},
   "source": [
    "Fine tune the hyper parameters for Random Forest"
   ]
  },
  {
   "cell_type": "code",
   "execution_count": 36,
   "metadata": {},
   "outputs": [
    {
     "name": "stdout",
     "output_type": "stream",
     "text": [
      "Fitting 3 folds for each of 108 candidates, totalling 324 fits\n",
      "Best Parameters: {'max_depth': None, 'min_samples_leaf': 2, 'min_samples_split': 5, 'n_estimators': 200}\n",
      "Best Score: 0.81067511129469\n",
      "Best Random Forest Classifier Accuracy: 0.4174757281553398\n",
      "Best Random Forest Classifier Classification Report:\n",
      "                 precision    recall  f1-score   support\n",
      "\n",
      " Not_so_popular       0.47      0.32      0.38        25\n",
      " Popular_During       0.50      0.63      0.56        51\n",
      "Popular_Forever       0.00      0.00      0.00         8\n",
      "   Semi_Popular       0.19      0.16      0.17        19\n",
      "\n",
      "       accuracy                           0.42       103\n",
      "      macro avg       0.29      0.28      0.28       103\n",
      "   weighted avg       0.40      0.42      0.40       103\n",
      "\n"
     ]
    }
   ],
   "source": [
    "from sklearn.ensemble import RandomForestClassifier\n",
    "from sklearn.model_selection import GridSearchCV\n",
    "\n",
    "# Define the parameter grid\n",
    "param_grid = {\n",
    "    'n_estimators': [50, 100, 200],\n",
    "    'max_depth': [None, 10, 20, 30],\n",
    "    'min_samples_split': [2, 5, 10],\n",
    "    'min_samples_leaf': [1, 2, 4]\n",
    "}\n",
    "\n",
    "# Initialize the classifier\n",
    "rf = RandomForestClassifier(random_state=42)\n",
    "\n",
    "# Initialize the grid search model\n",
    "grid_search = GridSearchCV(estimator=rf, param_grid=param_grid, cv=3, n_jobs=-1, verbose=2)\n",
    "\n",
    "# Fit the grid search to the data\n",
    "grid_search.fit(X_train_smote, y_train_smote)\n",
    "\n",
    "# Get the best parameters and the best score\n",
    "best_params = grid_search.best_params_\n",
    "best_score = grid_search.best_score_\n",
    "\n",
    "# Print the best parameters and the best score\n",
    "print(\"Best Parameters:\", best_params)\n",
    "print(\"Best Score:\", best_score)\n",
    "\n",
    "# Use the best estimator for making predictions\n",
    "best_rf = grid_search.best_estimator_\n",
    "y_pred_best_rf = best_rf.predict(X_test)\n",
    "\n",
    "# Evaluate the best model\n",
    "accuracy_best_rf = accuracy_score(y_test, y_pred_best_rf)\n",
    "report_best_rf = classification_report(y_test, y_pred_best_rf)\n",
    "\n",
    "# Print the evaluation results\n",
    "print(\"Best Random Forest Classifier Accuracy:\", accuracy_best_rf)\n",
    "print(\"Best Random Forest Classifier Classification Report:\")\n",
    "print(report_best_rf)\n"
   ]
  },
  {
   "cell_type": "markdown",
   "metadata": {},
   "source": [
    "Yes, it seems that after hyperparameter tuning, the accuracy on the test set has decreased to approximately 41.7%, down from 51.5%. This can happen for several reasons:\n",
    "\n",
    "Overfitting during Training: The best parameters found during grid search may have overfitted to the training data, especially since the training data was augmented using SMOTE. This can lead to an artificially high score during training that doesn't generalize well to the test data.\n",
    "\n",
    "Cross-validation Discrepancy: The best score from grid search is based on cross-validation on the training set, which can sometimes give an optimistic estimate of the model's performance on unseen data.\n",
    "\n",
    "Difference in Data Distribution: There could be a difference in the distribution of data between the training set and the test set, even with stratification. This can affect the model's performance.\n",
    "\n",
    "Evaluation Metrics: The grid search optimization focused on maximizing the cross-validation score, which by default for classifiers in sklearn is accuracy. If the dataset is imbalanced, optimizing for accuracy may not lead to the best model for all classes, as we see with the 'Popular_Forever' class.\n",
    "\n",
    "Here are some steps you can take to potentially improve the performance:\n",
    "\n",
    "Optimize for a Different Metric: If certain classes are more important, or you want to ensure balance across classes, consider optimizing for a different metric such as F1-score.\n",
    "\n",
    "Review the Training Process: Check for overfitting during training by comparing training scores with validation scores.\n",
    "\n",
    "Adjust the Grid: The range of hyperparameters in the grid might need adjustment. For example, you might need to explore deeper trees or different values for min_samples_split.\n",
    "\n",
    "Feature Engineering: Continue to refine the input features. Feature selection or extraction might yield a more informative set of inputs for the model.\n",
    "\n",
    "Model Complexity: If the model is too complex, it might overfit; if it's too simple, it might underfit. Adjust the complexity with hyperparameters, or try different models.\n",
    "\n",
    "Different Model: Since Random Forest has not performed as expected, consider trying a different model like Gradient Boosting or XGBoost, which can be more robust to class imbalance and might perform better.\n",
    "\n",
    "It's also worth noting that while accuracy is a useful metric, it's not the only measure of success, especially with imbalanced classes. Look at the precision, recall, and F1 scores for each class to get a better understanding of your model's performance."
   ]
  },
  {
   "cell_type": "code",
   "execution_count": 66,
   "metadata": {},
   "outputs": [
    {
     "name": "stdout",
     "output_type": "stream",
     "text": [
      "KNN Classifier Accuracy: 0.4854368932038835\n",
      "KNN Classifier Classification Report:\n",
      "                 precision    recall  f1-score   support\n",
      "\n",
      " Not_so_popular       0.32      0.24      0.27        25\n",
      " Popular_During       0.53      0.76      0.63        51\n",
      "Popular_Forever       0.00      0.00      0.00         8\n",
      "   Semi_Popular       0.50      0.26      0.34        19\n",
      "\n",
      "       accuracy                           0.49       103\n",
      "      macro avg       0.34      0.32      0.31       103\n",
      "   weighted avg       0.43      0.49      0.44       103\n",
      "\n"
     ]
    }
   ],
   "source": [
    "from sklearn.neighbors import KNeighborsClassifier\n",
    "\n",
    "# Initialize the KNeighborsClassifier\n",
    "# n_neighbors is a hyperparameter that you can tune. Starting with 5.\n",
    "knn = KNeighborsClassifier(n_neighbors=5, weights='distance')\n",
    "\n",
    "# Fit the classifier to the training data\n",
    "knn.fit(X_train, y_train)\n",
    "\n",
    "# Predict on the test data\n",
    "y_pred_knn = knn.predict(X_test)\n",
    "\n",
    "# Evaluate the classifier\n",
    "accuracy_knn = accuracy_score(y_test, y_pred_knn)\n",
    "report_knn = classification_report(y_test, y_pred_knn)\n",
    "\n",
    "# Print the evaluation results\n",
    "print(\"KNN Classifier Accuracy:\", accuracy_knn)\n",
    "print(\"KNN Classifier Classification Report:\")\n",
    "print(report_knn)\n"
   ]
  },
  {
   "cell_type": "markdown",
   "metadata": {},
   "source": []
  },
  {
   "cell_type": "code",
   "execution_count": 67,
   "metadata": {},
   "outputs": [
    {
     "name": "stdout",
     "output_type": "stream",
     "text": [
      "Epoch 1/150\n"
     ]
    },
    {
     "ename": "UnimplementedError",
     "evalue": "Graph execution error:\n\nDetected at node 'sparse_categorical_crossentropy/Cast' defined at (most recent call last):\n    File \"c:\\Users\\megha\\AppData\\Local\\Programs\\Python\\Python310\\lib\\runpy.py\", line 196, in _run_module_as_main\n      return _run_code(code, main_globals, None,\n    File \"c:\\Users\\megha\\AppData\\Local\\Programs\\Python\\Python310\\lib\\runpy.py\", line 86, in _run_code\n      exec(code, run_globals)\n    File \"C:\\Users\\megha\\AppData\\Roaming\\Python\\Python310\\site-packages\\ipykernel_launcher.py\", line 17, in <module>\n      app.launch_new_instance()\n    File \"C:\\Users\\megha\\AppData\\Roaming\\Python\\Python310\\site-packages\\traitlets\\config\\application.py\", line 978, in launch_instance\n      app.start()\n    File \"C:\\Users\\megha\\AppData\\Roaming\\Python\\Python310\\site-packages\\ipykernel\\kernelapp.py\", line 712, in start\n      self.io_loop.start()\n    File \"c:\\Users\\megha\\AppData\\Local\\Programs\\Python\\Python310\\lib\\site-packages\\tornado\\platform\\asyncio.py\", line 215, in start\n      self.asyncio_loop.run_forever()\n    File \"c:\\Users\\megha\\AppData\\Local\\Programs\\Python\\Python310\\lib\\asyncio\\base_events.py\", line 600, in run_forever\n      self._run_once()\n    File \"c:\\Users\\megha\\AppData\\Local\\Programs\\Python\\Python310\\lib\\asyncio\\base_events.py\", line 1896, in _run_once\n      handle._run()\n    File \"c:\\Users\\megha\\AppData\\Local\\Programs\\Python\\Python310\\lib\\asyncio\\events.py\", line 80, in _run\n      self._context.run(self._callback, *self._args)\n    File \"C:\\Users\\megha\\AppData\\Roaming\\Python\\Python310\\site-packages\\ipykernel\\kernelbase.py\", line 510, in dispatch_queue\n      await self.process_one()\n    File \"C:\\Users\\megha\\AppData\\Roaming\\Python\\Python310\\site-packages\\ipykernel\\kernelbase.py\", line 499, in process_one\n      await dispatch(*args)\n    File \"C:\\Users\\megha\\AppData\\Roaming\\Python\\Python310\\site-packages\\ipykernel\\kernelbase.py\", line 406, in dispatch_shell\n      await result\n    File \"C:\\Users\\megha\\AppData\\Roaming\\Python\\Python310\\site-packages\\ipykernel\\kernelbase.py\", line 730, in execute_request\n      reply_content = await reply_content\n    File \"C:\\Users\\megha\\AppData\\Roaming\\Python\\Python310\\site-packages\\ipykernel\\ipkernel.py\", line 383, in do_execute\n      res = shell.run_cell(\n    File \"C:\\Users\\megha\\AppData\\Roaming\\Python\\Python310\\site-packages\\ipykernel\\zmqshell.py\", line 528, in run_cell\n      return super().run_cell(*args, **kwargs)\n    File \"C:\\Users\\megha\\AppData\\Roaming\\Python\\Python310\\site-packages\\IPython\\core\\interactiveshell.py\", line 2885, in run_cell\n      result = self._run_cell(\n    File \"C:\\Users\\megha\\AppData\\Roaming\\Python\\Python310\\site-packages\\IPython\\core\\interactiveshell.py\", line 2940, in _run_cell\n      return runner(coro)\n    File \"C:\\Users\\megha\\AppData\\Roaming\\Python\\Python310\\site-packages\\IPython\\core\\async_helpers.py\", line 129, in _pseudo_sync_runner\n      coro.send(None)\n    File \"C:\\Users\\megha\\AppData\\Roaming\\Python\\Python310\\site-packages\\IPython\\core\\interactiveshell.py\", line 3139, in run_cell_async\n      has_raised = await self.run_ast_nodes(code_ast.body, cell_name,\n    File \"C:\\Users\\megha\\AppData\\Roaming\\Python\\Python310\\site-packages\\IPython\\core\\interactiveshell.py\", line 3318, in run_ast_nodes\n      if await self.run_code(code, result, async_=asy):\n    File \"C:\\Users\\megha\\AppData\\Roaming\\Python\\Python310\\site-packages\\IPython\\core\\interactiveshell.py\", line 3378, in run_code\n      exec(code_obj, self.user_global_ns, self.user_ns)\n    File \"C:\\Users\\megha\\AppData\\Local\\Temp\\ipykernel_11520\\1936361519.py\", line 15, in <module>\n      history = model.fit(X_train_smote, y_train_smote, validation_split=0.1, epochs=150, batch_size=10, verbose=1)\n    File \"c:\\Users\\megha\\AppData\\Local\\Programs\\Python\\Python310\\lib\\site-packages\\keras\\utils\\traceback_utils.py\", line 65, in error_handler\n      return fn(*args, **kwargs)\n    File \"c:\\Users\\megha\\AppData\\Local\\Programs\\Python\\Python310\\lib\\site-packages\\keras\\engine\\training.py\", line 1685, in fit\n      tmp_logs = self.train_function(iterator)\n    File \"c:\\Users\\megha\\AppData\\Local\\Programs\\Python\\Python310\\lib\\site-packages\\keras\\engine\\training.py\", line 1284, in train_function\n      return step_function(self, iterator)\n    File \"c:\\Users\\megha\\AppData\\Local\\Programs\\Python\\Python310\\lib\\site-packages\\keras\\engine\\training.py\", line 1268, in step_function\n      outputs = model.distribute_strategy.run(run_step, args=(data,))\n    File \"c:\\Users\\megha\\AppData\\Local\\Programs\\Python\\Python310\\lib\\site-packages\\keras\\engine\\training.py\", line 1249, in run_step\n      outputs = model.train_step(data)\n    File \"c:\\Users\\megha\\AppData\\Local\\Programs\\Python\\Python310\\lib\\site-packages\\keras\\engine\\training.py\", line 1051, in train_step\n      loss = self.compute_loss(x, y, y_pred, sample_weight)\n    File \"c:\\Users\\megha\\AppData\\Local\\Programs\\Python\\Python310\\lib\\site-packages\\keras\\engine\\training.py\", line 1109, in compute_loss\n      return self.compiled_loss(\n    File \"c:\\Users\\megha\\AppData\\Local\\Programs\\Python\\Python310\\lib\\site-packages\\keras\\engine\\compile_utils.py\", line 265, in __call__\n      loss_value = loss_obj(y_t, y_p, sample_weight=sw)\n    File \"c:\\Users\\megha\\AppData\\Local\\Programs\\Python\\Python310\\lib\\site-packages\\keras\\losses.py\", line 142, in __call__\n      losses = call_fn(y_true, y_pred)\n    File \"c:\\Users\\megha\\AppData\\Local\\Programs\\Python\\Python310\\lib\\site-packages\\keras\\losses.py\", line 268, in call\n      return ag_fn(y_true, y_pred, **self._fn_kwargs)\n    File \"c:\\Users\\megha\\AppData\\Local\\Programs\\Python\\Python310\\lib\\site-packages\\keras\\losses.py\", line 2078, in sparse_categorical_crossentropy\n      return backend.sparse_categorical_crossentropy(\n    File \"c:\\Users\\megha\\AppData\\Local\\Programs\\Python\\Python310\\lib\\site-packages\\keras\\backend.py\", line 5610, in sparse_categorical_crossentropy\n      target = cast(target, \"int64\")\n    File \"c:\\Users\\megha\\AppData\\Local\\Programs\\Python\\Python310\\lib\\site-packages\\keras\\backend.py\", line 2304, in cast\n      return tf.cast(x, dtype)\nNode: 'sparse_categorical_crossentropy/Cast'\nCast string to int64 is not supported\n\t [[{{node sparse_categorical_crossentropy/Cast}}]] [Op:__inference_train_function_978]",
     "output_type": "error",
     "traceback": [
      "\u001b[1;31m---------------------------------------------------------------------------\u001b[0m",
      "\u001b[1;31mUnimplementedError\u001b[0m                        Traceback (most recent call last)",
      "\u001b[1;32mc:\\Users\\megha\\Documents\\Sem3\\881 Data Mining\\Project\\Final\\Mine\\Popularity Model\\Final_Models.ipynb Cell 29\u001b[0m line \u001b[0;36m1\n\u001b[0;32m     <a href='vscode-notebook-cell:/c%3A/Users/megha/Documents/Sem3/881%20Data%20Mining/Project/Final/Mine/Popularity%20Model/Final_Models.ipynb#X63sZmlsZQ%3D%3D?line=11'>12</a>\u001b[0m model\u001b[39m.\u001b[39mcompile(loss\u001b[39m=\u001b[39m\u001b[39m'\u001b[39m\u001b[39msparse_categorical_crossentropy\u001b[39m\u001b[39m'\u001b[39m, optimizer\u001b[39m=\u001b[39mAdam(learning_rate\u001b[39m=\u001b[39m\u001b[39m0.001\u001b[39m), metrics\u001b[39m=\u001b[39m[\u001b[39m'\u001b[39m\u001b[39maccuracy\u001b[39m\u001b[39m'\u001b[39m])\n\u001b[0;32m     <a href='vscode-notebook-cell:/c%3A/Users/megha/Documents/Sem3/881%20Data%20Mining/Project/Final/Mine/Popularity%20Model/Final_Models.ipynb#X63sZmlsZQ%3D%3D?line=13'>14</a>\u001b[0m \u001b[39m# Fit the model on the training data\u001b[39;00m\n\u001b[1;32m---> <a href='vscode-notebook-cell:/c%3A/Users/megha/Documents/Sem3/881%20Data%20Mining/Project/Final/Mine/Popularity%20Model/Final_Models.ipynb#X63sZmlsZQ%3D%3D?line=14'>15</a>\u001b[0m history \u001b[39m=\u001b[39m model\u001b[39m.\u001b[39mfit(X_train_smote, y_train_smote, validation_split\u001b[39m=\u001b[39m\u001b[39m0.1\u001b[39m, epochs\u001b[39m=\u001b[39m\u001b[39m150\u001b[39m, batch_size\u001b[39m=\u001b[39m\u001b[39m10\u001b[39m, verbose\u001b[39m=\u001b[39m\u001b[39m1\u001b[39m)\n\u001b[0;32m     <a href='vscode-notebook-cell:/c%3A/Users/megha/Documents/Sem3/881%20Data%20Mining/Project/Final/Mine/Popularity%20Model/Final_Models.ipynb#X63sZmlsZQ%3D%3D?line=16'>17</a>\u001b[0m \u001b[39m# Evaluate the model on the test data\u001b[39;00m\n\u001b[0;32m     <a href='vscode-notebook-cell:/c%3A/Users/megha/Documents/Sem3/881%20Data%20Mining/Project/Final/Mine/Popularity%20Model/Final_Models.ipynb#X63sZmlsZQ%3D%3D?line=17'>18</a>\u001b[0m loss, accuracy \u001b[39m=\u001b[39m model\u001b[39m.\u001b[39mevaluate(X_test, y_test)\n",
      "File \u001b[1;32mc:\\Users\\megha\\AppData\\Local\\Programs\\Python\\Python310\\lib\\site-packages\\keras\\utils\\traceback_utils.py:70\u001b[0m, in \u001b[0;36mfilter_traceback.<locals>.error_handler\u001b[1;34m(*args, **kwargs)\u001b[0m\n\u001b[0;32m     67\u001b[0m     filtered_tb \u001b[39m=\u001b[39m _process_traceback_frames(e\u001b[39m.\u001b[39m__traceback__)\n\u001b[0;32m     68\u001b[0m     \u001b[39m# To get the full stack trace, call:\u001b[39;00m\n\u001b[0;32m     69\u001b[0m     \u001b[39m# `tf.debugging.disable_traceback_filtering()`\u001b[39;00m\n\u001b[1;32m---> 70\u001b[0m     \u001b[39mraise\u001b[39;00m e\u001b[39m.\u001b[39mwith_traceback(filtered_tb) \u001b[39mfrom\u001b[39;00m \u001b[39mNone\u001b[39m\n\u001b[0;32m     71\u001b[0m \u001b[39mfinally\u001b[39;00m:\n\u001b[0;32m     72\u001b[0m     \u001b[39mdel\u001b[39;00m filtered_tb\n",
      "File \u001b[1;32mc:\\Users\\megha\\AppData\\Local\\Programs\\Python\\Python310\\lib\\site-packages\\tensorflow\\python\\eager\\execute.py:52\u001b[0m, in \u001b[0;36mquick_execute\u001b[1;34m(op_name, num_outputs, inputs, attrs, ctx, name)\u001b[0m\n\u001b[0;32m     50\u001b[0m \u001b[39mtry\u001b[39;00m:\n\u001b[0;32m     51\u001b[0m   ctx\u001b[39m.\u001b[39mensure_initialized()\n\u001b[1;32m---> 52\u001b[0m   tensors \u001b[39m=\u001b[39m pywrap_tfe\u001b[39m.\u001b[39mTFE_Py_Execute(ctx\u001b[39m.\u001b[39m_handle, device_name, op_name,\n\u001b[0;32m     53\u001b[0m                                       inputs, attrs, num_outputs)\n\u001b[0;32m     54\u001b[0m \u001b[39mexcept\u001b[39;00m core\u001b[39m.\u001b[39m_NotOkStatusException \u001b[39mas\u001b[39;00m e:\n\u001b[0;32m     55\u001b[0m   \u001b[39mif\u001b[39;00m name \u001b[39mis\u001b[39;00m \u001b[39mnot\u001b[39;00m \u001b[39mNone\u001b[39;00m:\n",
      "\u001b[1;31mUnimplementedError\u001b[0m: Graph execution error:\n\nDetected at node 'sparse_categorical_crossentropy/Cast' defined at (most recent call last):\n    File \"c:\\Users\\megha\\AppData\\Local\\Programs\\Python\\Python310\\lib\\runpy.py\", line 196, in _run_module_as_main\n      return _run_code(code, main_globals, None,\n    File \"c:\\Users\\megha\\AppData\\Local\\Programs\\Python\\Python310\\lib\\runpy.py\", line 86, in _run_code\n      exec(code, run_globals)\n    File \"C:\\Users\\megha\\AppData\\Roaming\\Python\\Python310\\site-packages\\ipykernel_launcher.py\", line 17, in <module>\n      app.launch_new_instance()\n    File \"C:\\Users\\megha\\AppData\\Roaming\\Python\\Python310\\site-packages\\traitlets\\config\\application.py\", line 978, in launch_instance\n      app.start()\n    File \"C:\\Users\\megha\\AppData\\Roaming\\Python\\Python310\\site-packages\\ipykernel\\kernelapp.py\", line 712, in start\n      self.io_loop.start()\n    File \"c:\\Users\\megha\\AppData\\Local\\Programs\\Python\\Python310\\lib\\site-packages\\tornado\\platform\\asyncio.py\", line 215, in start\n      self.asyncio_loop.run_forever()\n    File \"c:\\Users\\megha\\AppData\\Local\\Programs\\Python\\Python310\\lib\\asyncio\\base_events.py\", line 600, in run_forever\n      self._run_once()\n    File \"c:\\Users\\megha\\AppData\\Local\\Programs\\Python\\Python310\\lib\\asyncio\\base_events.py\", line 1896, in _run_once\n      handle._run()\n    File \"c:\\Users\\megha\\AppData\\Local\\Programs\\Python\\Python310\\lib\\asyncio\\events.py\", line 80, in _run\n      self._context.run(self._callback, *self._args)\n    File \"C:\\Users\\megha\\AppData\\Roaming\\Python\\Python310\\site-packages\\ipykernel\\kernelbase.py\", line 510, in dispatch_queue\n      await self.process_one()\n    File \"C:\\Users\\megha\\AppData\\Roaming\\Python\\Python310\\site-packages\\ipykernel\\kernelbase.py\", line 499, in process_one\n      await dispatch(*args)\n    File \"C:\\Users\\megha\\AppData\\Roaming\\Python\\Python310\\site-packages\\ipykernel\\kernelbase.py\", line 406, in dispatch_shell\n      await result\n    File \"C:\\Users\\megha\\AppData\\Roaming\\Python\\Python310\\site-packages\\ipykernel\\kernelbase.py\", line 730, in execute_request\n      reply_content = await reply_content\n    File \"C:\\Users\\megha\\AppData\\Roaming\\Python\\Python310\\site-packages\\ipykernel\\ipkernel.py\", line 383, in do_execute\n      res = shell.run_cell(\n    File \"C:\\Users\\megha\\AppData\\Roaming\\Python\\Python310\\site-packages\\ipykernel\\zmqshell.py\", line 528, in run_cell\n      return super().run_cell(*args, **kwargs)\n    File \"C:\\Users\\megha\\AppData\\Roaming\\Python\\Python310\\site-packages\\IPython\\core\\interactiveshell.py\", line 2885, in run_cell\n      result = self._run_cell(\n    File \"C:\\Users\\megha\\AppData\\Roaming\\Python\\Python310\\site-packages\\IPython\\core\\interactiveshell.py\", line 2940, in _run_cell\n      return runner(coro)\n    File \"C:\\Users\\megha\\AppData\\Roaming\\Python\\Python310\\site-packages\\IPython\\core\\async_helpers.py\", line 129, in _pseudo_sync_runner\n      coro.send(None)\n    File \"C:\\Users\\megha\\AppData\\Roaming\\Python\\Python310\\site-packages\\IPython\\core\\interactiveshell.py\", line 3139, in run_cell_async\n      has_raised = await self.run_ast_nodes(code_ast.body, cell_name,\n    File \"C:\\Users\\megha\\AppData\\Roaming\\Python\\Python310\\site-packages\\IPython\\core\\interactiveshell.py\", line 3318, in run_ast_nodes\n      if await self.run_code(code, result, async_=asy):\n    File \"C:\\Users\\megha\\AppData\\Roaming\\Python\\Python310\\site-packages\\IPython\\core\\interactiveshell.py\", line 3378, in run_code\n      exec(code_obj, self.user_global_ns, self.user_ns)\n    File \"C:\\Users\\megha\\AppData\\Local\\Temp\\ipykernel_11520\\1936361519.py\", line 15, in <module>\n      history = model.fit(X_train_smote, y_train_smote, validation_split=0.1, epochs=150, batch_size=10, verbose=1)\n    File \"c:\\Users\\megha\\AppData\\Local\\Programs\\Python\\Python310\\lib\\site-packages\\keras\\utils\\traceback_utils.py\", line 65, in error_handler\n      return fn(*args, **kwargs)\n    File \"c:\\Users\\megha\\AppData\\Local\\Programs\\Python\\Python310\\lib\\site-packages\\keras\\engine\\training.py\", line 1685, in fit\n      tmp_logs = self.train_function(iterator)\n    File \"c:\\Users\\megha\\AppData\\Local\\Programs\\Python\\Python310\\lib\\site-packages\\keras\\engine\\training.py\", line 1284, in train_function\n      return step_function(self, iterator)\n    File \"c:\\Users\\megha\\AppData\\Local\\Programs\\Python\\Python310\\lib\\site-packages\\keras\\engine\\training.py\", line 1268, in step_function\n      outputs = model.distribute_strategy.run(run_step, args=(data,))\n    File \"c:\\Users\\megha\\AppData\\Local\\Programs\\Python\\Python310\\lib\\site-packages\\keras\\engine\\training.py\", line 1249, in run_step\n      outputs = model.train_step(data)\n    File \"c:\\Users\\megha\\AppData\\Local\\Programs\\Python\\Python310\\lib\\site-packages\\keras\\engine\\training.py\", line 1051, in train_step\n      loss = self.compute_loss(x, y, y_pred, sample_weight)\n    File \"c:\\Users\\megha\\AppData\\Local\\Programs\\Python\\Python310\\lib\\site-packages\\keras\\engine\\training.py\", line 1109, in compute_loss\n      return self.compiled_loss(\n    File \"c:\\Users\\megha\\AppData\\Local\\Programs\\Python\\Python310\\lib\\site-packages\\keras\\engine\\compile_utils.py\", line 265, in __call__\n      loss_value = loss_obj(y_t, y_p, sample_weight=sw)\n    File \"c:\\Users\\megha\\AppData\\Local\\Programs\\Python\\Python310\\lib\\site-packages\\keras\\losses.py\", line 142, in __call__\n      losses = call_fn(y_true, y_pred)\n    File \"c:\\Users\\megha\\AppData\\Local\\Programs\\Python\\Python310\\lib\\site-packages\\keras\\losses.py\", line 268, in call\n      return ag_fn(y_true, y_pred, **self._fn_kwargs)\n    File \"c:\\Users\\megha\\AppData\\Local\\Programs\\Python\\Python310\\lib\\site-packages\\keras\\losses.py\", line 2078, in sparse_categorical_crossentropy\n      return backend.sparse_categorical_crossentropy(\n    File \"c:\\Users\\megha\\AppData\\Local\\Programs\\Python\\Python310\\lib\\site-packages\\keras\\backend.py\", line 5610, in sparse_categorical_crossentropy\n      target = cast(target, \"int64\")\n    File \"c:\\Users\\megha\\AppData\\Local\\Programs\\Python\\Python310\\lib\\site-packages\\keras\\backend.py\", line 2304, in cast\n      return tf.cast(x, dtype)\nNode: 'sparse_categorical_crossentropy/Cast'\nCast string to int64 is not supported\n\t [[{{node sparse_categorical_crossentropy/Cast}}]] [Op:__inference_train_function_978]"
     ]
    }
   ],
   "source": [
    "from tensorflow.keras.models import Sequential\n",
    "from tensorflow.keras.layers import Dense\n",
    "from tensorflow.keras.optimizers import Adam\n",
    "\n",
    "# Define the keras model\n",
    "model = Sequential()\n",
    "model.add(Dense(12, input_dim=X_train_smote.shape[1], activation='relu'))  # First hidden layer with 12 neurons\n",
    "model.add(Dense(8, activation='relu'))  # Second hidden layer with 8 neurons\n",
    "model.add(Dense(4, activation='softmax'))  # Output layer with 4 neurons since we have 4 classes\n",
    "\n",
    "# Compile the model\n",
    "model.compile(loss='sparse_categorical_crossentropy', optimizer=Adam(learning_rate=0.001), metrics=['accuracy'])\n",
    "\n",
    "# Fit the model on the training data\n",
    "history = model.fit(X_train_smote, y_train_smote, validation_split=0.1, epochs=150, batch_size=10, verbose=1)\n",
    "\n",
    "# Evaluate the model on the test data\n",
    "loss, accuracy = model.evaluate(X_test, y_test)\n",
    "print(f'Neural Network Accuracy: {accuracy}')\n"
   ]
  },
  {
   "cell_type": "markdown",
   "metadata": {},
   "source": []
  },
  {
   "cell_type": "markdown",
   "metadata": {},
   "source": []
  },
  {
   "cell_type": "markdown",
   "metadata": {},
   "source": []
  },
  {
   "cell_type": "markdown",
   "metadata": {},
   "source": []
  },
  {
   "cell_type": "markdown",
   "metadata": {},
   "source": []
  },
  {
   "cell_type": "markdown",
   "metadata": {},
   "source": [
    "Model Selection<br/>\n",
    "Try different algorithms to see which performs best. Common choices for regression problems include:<br/>\n",
    "\n",
    "Linear Regression<br/>\n",
    "Decision Tree Regression<br/>\n",
    "Random Forest Regression<br/>\n",
    "Gradient Boosting Machines (like XGBoost or LightGBM)<br/>\n",
    "Support Vector Machines (SVM)<br/>"
   ]
  },
  {
   "cell_type": "code",
   "execution_count": 10,
   "metadata": {},
   "outputs": [
    {
     "name": "stdout",
     "output_type": "stream",
     "text": [
      "Linear Regression trained.\n",
      "Random Forest trained.\n",
      "Support Vector Machine trained.\n",
      "XGBoost trained.\n"
     ]
    }
   ],
   "source": [
    "from sklearn.linear_model import LinearRegression\n",
    "from sklearn.ensemble import RandomForestRegressor\n",
    "from sklearn.svm import SVR\n",
    "from xgboost import XGBRegressor\n",
    "\n",
    "# Initialize models\n",
    "models = {\n",
    "    \"Linear Regression\": LinearRegression(),\n",
    "    \"Random Forest\": RandomForestRegressor(),\n",
    "    \"Support Vector Machine\": SVR(),\n",
    "    \"XGBoost\": XGBRegressor()\n",
    "}\n",
    "\n",
    "# Train models\n",
    "for name, model in models.items():\n",
    "    model.fit(X_train, y_train)\n",
    "    print(f\"{name} trained.\")\n"
   ]
  },
  {
   "cell_type": "code",
   "execution_count": 11,
   "metadata": {},
   "outputs": [
    {
     "name": "stdout",
     "output_type": "stream",
     "text": [
      "Linear Regression - MSE: 232.2233027153926, R2: 0.046319133218791886\n",
      "Random Forest - MSE: 179.32754567529133, R2: 0.2635482865087052\n",
      "Support Vector Machine - MSE: 239.72273652360624, R2: 0.015520903881097503\n",
      "XGBoost - MSE: 208.5506806497821, R2: 0.1435364514919032\n"
     ]
    }
   ],
   "source": [
    "### MODEL EVALUATION\n",
    "\n",
    "from sklearn.metrics import mean_squared_error, r2_score\n",
    "\n",
    "for name, model in models.items():\n",
    "    y_pred = model.predict(X_test)\n",
    "    mse = mean_squared_error(y_test, y_pred)\n",
    "    r2 = r2_score(y_test, y_pred)\n",
    "    print(f\"{name} - MSE: {mse}, R2: {r2}\")\n"
   ]
  },
  {
   "cell_type": "markdown",
   "metadata": {},
   "source": [
    "Random Forest Regressor:\n",
    "- MSE: 188.11\n",
    "- R2: 0.227\n",
    "\n",
    "This model has the lowest MSE and the highest R² score, indicating it's the best at predicting the 'popularity_score_scaled' among the models you tested.\n",
    "Linear Regression and Support Vector Machine:\n",
    "\n",
    "These models have higher MSEs and lower R² scores, suggesting they're not capturing the complexity of your data as effectively as the Random Forest.\n",
    "XGBoost:<br/>\n",
    "\n",
    "XGBoost shows a decent performance but is still outperformed by the Random Forest. It might improve with hyperparameter tuning.<br/>\n",
    "Next Steps:<br/>\n",
    "1. Hyperparameter Tuning:<br/>\n",
    "The performance of the Random Forest and XGBoost models might be significantly improved by tuning their hyperparameters. You can use techniques like Grid Search or Random Search for this purpose.\n",
    "2. Feature Importance Analysis:<br/>\n",
    "Especially for the Random Forest and XGBoost models, check which features are most important for predicting popularity. This could provide insights into your dataset and might even suggest further feature engineering or selection.\n",
    "3. Cross-Validation:<br/>\n",
    "Consider using cross-validation to assess the model's performance. This will give you a more robust understanding of how well the model might perform on unseen data.\n",
    "4. Model Refinement:<br/>\n",
    "Based on the results of hyperparameter tuning and feature importance, refine your models. You may also want to revisit data preprocessing steps if you think there's more room for improvement.\n",
    "5. Final Model Selection:<br/>\n",
    "Once you've tuned the models and reassessed their performance, choose the one that shows the best results on your test data for your final model."
   ]
  },
  {
   "cell_type": "code",
   "execution_count": 24,
   "metadata": {},
   "outputs": [
    {
     "name": "stdout",
     "output_type": "stream",
     "text": [
      "Fitting 3 folds for each of 100 candidates, totalling 300 fits\n"
     ]
    }
   ],
   "source": [
    "###### RUNNING ON COLLAB\n",
    "\"\"\"\n",
    "from sklearn.model_selection import RandomizedSearchCV\n",
    "from sklearn.ensemble import RandomForestRegressor\n",
    "\n",
    "# Define the parameter grid\n",
    "param_grid = {\n",
    "    'n_estimators': [100, 200, 300, 400, 500],\n",
    "    'max_depth': [10, 20, 30, 40, 50, None],\n",
    "    'min_samples_split': [2, 5, 10],\n",
    "    'min_samples_leaf': [1, 2, 4],\n",
    "    'bootstrap': [True, False]\n",
    "}\n",
    "\n",
    "# Create a base model\n",
    "rf = RandomForestRegressor()\n",
    "\n",
    "# Instantiate the grid search model\n",
    "rf_random = RandomizedSearchCV(estimator = rf, param_distributions = param_grid, \n",
    "                               n_iter = 100, cv = 3, verbose=2, random_state=42, n_jobs = -1)\n",
    "\n",
    "# Fit the random search model\n",
    "rf_random.fit(X_train, y_train)\n",
    "\n",
    "# Best parameters\n",
    "print(\"Best parameters:\", rf_random.best_params_)\n",
    "\"\"\""
   ]
  },
  {
   "cell_type": "code",
   "execution_count": 12,
   "metadata": {},
   "outputs": [
    {
     "name": "stdout",
     "output_type": "stream",
     "text": [
      "Fitting 3 folds for each of 100 candidates, totalling 300 fits\n"
     ]
    }
   ],
   "source": [
    "\"\"\"\n",
    "from xgboost import XGBRegressor\n",
    "from sklearn.model_selection import RandomizedSearchCV\n",
    "\n",
    "# Define the parameter grid\n",
    "param_grid = {\n",
    "    'n_estimators': [100, 200, 300, 400, 500],\n",
    "    'learning_rate': [0.01, 0.05, 0.1, 0.2, 0.3],\n",
    "    'max_depth': [3, 4, 5, 6, 7, 8],\n",
    "    'colsample_bytree': [0.3, 0.5, 0.7, 0.9, 1],\n",
    "    'subsample': [0.6, 0.7, 0.8, 0.9, 1]\n",
    "}\n",
    "\n",
    "# Create a base model\n",
    "xgb = XGBRegressor()\n",
    "\n",
    "# Instantiate the grid search model\n",
    "xgb_random = RandomizedSearchCV(estimator = xgb, param_distributions = param_grid, \n",
    "                                n_iter = 100, cv = 3, verbose=2, random_state=42, n_jobs = -1)\n",
    "\n",
    "# Fit the random search model\n",
    "xgb_random.fit(X_train, y_train)\n",
    "\n",
    "# Best parameters\n",
    "print(\"Best parameters:\", xgb_random.best_params_)\n",
    "\"\"\"\n"
   ]
  }
 ],
 "metadata": {
  "kernelspec": {
   "display_name": "Python 3",
   "language": "python",
   "name": "python3"
  },
  "language_info": {
   "codemirror_mode": {
    "name": "ipython",
    "version": 3
   },
   "file_extension": ".py",
   "mimetype": "text/x-python",
   "name": "python",
   "nbconvert_exporter": "python",
   "pygments_lexer": "ipython3",
   "version": "3.10.3"
  }
 },
 "nbformat": 4,
 "nbformat_minor": 2
}
